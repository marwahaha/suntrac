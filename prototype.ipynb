{
 "cells": [
  {
   "cell_type": "code",
   "execution_count": 1,
   "metadata": {},
   "outputs": [],
   "source": [
    "def risk(white, had_skin_cancer, at_least_50, is_male, heart_or_lung_txp):\n",
    "    if not white:\n",
    "        if not had_skin_cancer:\n",
    "            if not at_least_50:\n",
    "                return 'low'\n",
    "            else:\n",
    "                if not is_male:\n",
    "                    return 'low'\n",
    "                else:\n",
    "                    if not heart_or_lung_txp:\n",
    "                        return 'low'\n",
    "                    else:\n",
    "                        return 'medium'\n",
    "        else:\n",
    "            if at_least_50:\n",
    "                return 'medium'\n",
    "            else:\n",
    "                if is_male:\n",
    "                    return 'medium'\n",
    "                else:\n",
    "                    if heart_or_lung_txp:\n",
    "                        return 'medium'\n",
    "                    else:\n",
    "                        return 'low'\n",
    "    else:\n",
    "        if not had_skin_cancer:\n",
    "            if not at_least_50:\n",
    "                return 'medium'\n",
    "            else:\n",
    "                if not is_male:\n",
    "                    if not heart_or_lung_txp:\n",
    "                        return 'medium'\n",
    "                    else:\n",
    "                        return 'high'\n",
    "                else:\n",
    "                    return 'high'\n",
    "        else:\n",
    "            if at_least_50:\n",
    "                return 'very_high'\n",
    "            else:\n",
    "                if is_male:\n",
    "                    if heart_or_lung_txp:\n",
    "                        return 'very_high'\n",
    "                    else:\n",
    "                        return 'high'\n",
    "                else:\n",
    "                    return 'high'"
   ]
  },
  {
   "cell_type": "code",
   "execution_count": 2,
   "metadata": {},
   "outputs": [
    {
     "data": {
      "text/plain": [
       "\u001b[0;31mSignature:\u001b[0m \u001b[0mrisk\u001b[0m\u001b[0;34m(\u001b[0m\u001b[0mwhite\u001b[0m\u001b[0;34m,\u001b[0m \u001b[0mhad_skin_cancer\u001b[0m\u001b[0;34m,\u001b[0m \u001b[0mat_least_50\u001b[0m\u001b[0;34m,\u001b[0m \u001b[0mis_male\u001b[0m\u001b[0;34m,\u001b[0m \u001b[0mheart_or_lung_txp\u001b[0m\u001b[0;34m)\u001b[0m\u001b[0;34m\u001b[0m\u001b[0;34m\u001b[0m\u001b[0m\n",
       "\u001b[0;31mDocstring:\u001b[0m <no docstring>\n",
       "\u001b[0;31mFile:\u001b[0m      ~/Desktop/cool-projects/suntrac/<ipython-input-1-8f6fff1ed9f0>\n",
       "\u001b[0;31mType:\u001b[0m      function\n"
      ]
     },
     "metadata": {},
     "output_type": "display_data"
    }
   ],
   "source": [
    "risk?"
   ]
  },
  {
   "cell_type": "code",
   "execution_count": 3,
   "metadata": {},
   "outputs": [],
   "source": [
    "# Tests\n",
    "assert risk (True, True, True, True, True) == \"very_high\"\n",
    "assert risk (True, True, True, True, False) == \"very_high\"\n",
    "assert risk (True, True, True, False, True) == \"very_high\"\n",
    "assert risk (True, True, True, False, False) == \"very_high\"\n",
    "assert risk (True, True, False, True, True) == \"very_high\"\n",
    "assert risk (True, True, False, True, False) == \"high\"\n",
    "assert risk (True, True, False, False, True) == \"high\"\n",
    "assert risk (True, True, False, False, False) == \"high\"\n",
    "assert risk (True, False, True, True, True) == \"high\"\n",
    "assert risk (True, False, True, True, False) == \"high\"\n",
    "assert risk (True, False, True, False, True) == \"high\"\n",
    "assert risk (True, False, True, False, False) == \"medium\"\n",
    "assert risk (True, False, False, True, True) == \"medium\"\n",
    "assert risk (True, False, False, True, False) == \"medium\"\n",
    "assert risk (True, False, False, False, True) == \"medium\"\n",
    "assert risk (True, False, False, False, False) == \"medium\"\n",
    "assert risk (False, True, True, True, True) == \"medium\"\n",
    "assert risk (False, True, True, True, False) == \"medium\"\n",
    "assert risk (False, True, True, False, True) == \"medium\"\n",
    "assert risk (False, True, True, False, False) == \"medium\"\n",
    "assert risk (False, True, False, True, True) == \"medium\"\n",
    "assert risk (False, True, False, True, False) == \"medium\"\n",
    "assert risk (False, True, False, False, True) == \"medium\"\n",
    "assert risk (False, True, False, False, False) == \"low\"\n",
    "assert risk (False, False, True, True, True) == \"medium\"\n",
    "assert risk (False, False, True, True, False) == \"low\"\n",
    "assert risk (False, False, True, False, True) == \"low\"\n",
    "assert risk (False, False, True, False, False) == \"low\"\n",
    "assert risk (False, False, False, True, True) == \"low\"\n",
    "assert risk (False, False, False, True, False) == \"low\"\n",
    "assert risk (False, False, False, False, True) == \"low\"\n",
    "assert risk (False, False, False, False, False) == \"low\""
   ]
  },
  {
   "cell_type": "code",
   "execution_count": 4,
   "metadata": {},
   "outputs": [],
   "source": [
    "# # to regenerate tests, run this code\n",
    "# import itertools\n",
    "# all_possibilities = list(itertools.product(*[[True, False],]*5))\n",
    "# risks = [risk(*a) for a in all_possibilities]\n",
    "# for a, r in zip(all_possibilities, risks):\n",
    "#     print('assert risk', a, '==', '\"' + r + '\"')"
   ]
  }
 ],
 "metadata": {
  "kernelspec": {
   "display_name": "Python 3",
   "language": "python",
   "name": "python3"
  },
  "language_info": {
   "codemirror_mode": {
    "name": "ipython",
    "version": 3
   },
   "file_extension": ".py",
   "mimetype": "text/x-python",
   "name": "python",
   "nbconvert_exporter": "python",
   "pygments_lexer": "ipython3",
   "version": "3.7.4"
  }
 },
 "nbformat": 4,
 "nbformat_minor": 4
}
